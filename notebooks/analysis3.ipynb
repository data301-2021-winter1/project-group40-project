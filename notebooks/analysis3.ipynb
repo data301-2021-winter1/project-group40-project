{
 "cells": [
  {
   "cell_type": "markdown",
   "metadata": {},
   "source": [
    "# Peng Jin"
   ]
  },
  {
   "cell_type": "markdown",
   "metadata": {
    "tags": []
   },
   "source": [
    "## Research Questions\n",
    "- Do teams that do well in offense also do well in defense?\n",
    "- Which teams receive highest expectation?\n",
    "- Does the expectation ranking match the team's Win Above Replacement score?"
   ]
  },
  {
   "cell_type": "code",
   "execution_count": 8,
   "metadata": {},
   "outputs": [],
   "source": [
    "import numpy as np\n",
    "import pandas as pd\n",
    "import matplotlib.pylab as plt\n",
    "import seaborn as sns"
   ]
  },
  {
   "cell_type": "markdown",
   "metadata": {},
   "source": [
    "## Task 1"
   ]
  },
  {
   "cell_type": "code",
   "execution_count": 4,
   "metadata": {},
   "outputs": [
    {
     "name": "stdout",
     "output_type": "stream",
     "text": [
      "Number of rows and columns respectively: (865, 23)\n",
      "        player_name  player_id  season season_type team  poss    mp  \\\n",
      "0  Precious Achiuwa  achiupr01    2021          PO  MIA    24    12   \n",
      "1  Precious Achiuwa  achiupr01    2021          RS  MIA  1557   737   \n",
      "2      Jaylen Adams  adamsja01    2021          RS  MIL    41    18   \n",
      "3      Steven Adams  adamsst01    2021          RS  NOP  3313  1605   \n",
      "4       Bam Adebayo  adebaba01    2021          PO  MIA   293   136   \n",
      "\n",
      "   raptor_box_offense  raptor_box_defense  raptor_box_total  ...  \\\n",
      "0          -20.130150           13.445869         -6.684281  ...   \n",
      "1           -3.876227            1.172972         -2.703254  ...   \n",
      "2          -13.078112           -3.298021        -16.376133  ...   \n",
      "3           -1.463698            2.084763          0.621065  ...   \n",
      "4           -4.199527           -0.745652         -4.945179  ...   \n",
      "\n",
      "   raptor_offense  raptor_defense  raptor_total  war_total  war_reg_season  \\\n",
      "0      -19.524216       16.885365     -2.638851   0.000721        0.000000   \n",
      "1       -4.113660        0.709264     -3.404396  -0.246776       -0.246776   \n",
      "2      -16.826146       -1.405129    -18.231275  -0.139591       -0.139591   \n",
      "3       -0.542297        1.044021      0.501724   2.630392        2.630392   \n",
      "4       -3.965209        1.679654     -2.285555   0.033852        0.000000   \n",
      "\n",
      "   war_playoffs  predator_offense  predator_defense  predator_total  \\\n",
      "0      0.000721        -14.239813          7.007386       -7.232427   \n",
      "1      0.000000         -3.657064          0.374133       -3.282930   \n",
      "2      0.000000        -12.863840         -4.114459      -16.978299   \n",
      "3      0.000000         -0.728367          1.333237        0.604871   \n",
      "4      0.033852         -3.413399          1.575706       -1.837693   \n",
      "\n",
      "   pace_impact  \n",
      "0     2.725036  \n",
      "1     0.292227  \n",
      "2    -1.834433  \n",
      "3    -1.226775  \n",
      "4     1.814533  \n",
      "\n",
      "[5 rows x 23 columns]\n",
      "Columns: Index(['player_name', 'player_id', 'season', 'season_type', 'team', 'poss',\n",
      "       'mp', 'raptor_box_offense', 'raptor_box_defense', 'raptor_box_total',\n",
      "       'raptor_onoff_offense', 'raptor_onoff_defense', 'raptor_onoff_total',\n",
      "       'raptor_offense', 'raptor_defense', 'raptor_total', 'war_total',\n",
      "       'war_reg_season', 'war_playoffs', 'predator_offense',\n",
      "       'predator_defense', 'predator_total', 'pace_impact'],\n",
      "      dtype='object')\n"
     ]
    }
   ],
   "source": [
    "df = pd.read_csv(\"../data/raw/latest_RAPTOR_by_team.csv\")\n",
    "print(\"Number of rows and columns respectively:\", df.shape)\n",
    "print(df.head())\n",
    "print(\"Columns:\", df.columns)"
   ]
  },
  {
   "cell_type": "code",
   "execution_count": 5,
   "metadata": {},
   "outputs": [
    {
     "data": {
      "text/plain": [
       "player_name             540\n",
       "player_id               540\n",
       "season                    1\n",
       "season_type               2\n",
       "team                     30\n",
       "poss                    721\n",
       "mp                      621\n",
       "raptor_box_offense      865\n",
       "raptor_box_defense      865\n",
       "raptor_box_total        865\n",
       "raptor_onoff_offense    864\n",
       "raptor_onoff_defense    865\n",
       "raptor_onoff_total      865\n",
       "raptor_offense          865\n",
       "raptor_defense          865\n",
       "raptor_total            865\n",
       "war_total               865\n",
       "war_reg_season          627\n",
       "war_playoffs            240\n",
       "predator_offense        865\n",
       "predator_defense        865\n",
       "predator_total          865\n",
       "pace_impact             865\n",
       "dtype: int64"
      ]
     },
     "execution_count": 5,
     "metadata": {},
     "output_type": "execute_result"
    }
   ],
   "source": [
    "df.nunique(axis=0)"
   ]
  },
  {
   "cell_type": "code",
   "execution_count": 11,
   "metadata": {},
   "outputs": [
    {
     "data": {
      "text/html": [
       "<div>\n",
       "<style scoped>\n",
       "    .dataframe tbody tr th:only-of-type {\n",
       "        vertical-align: middle;\n",
       "    }\n",
       "\n",
       "    .dataframe tbody tr th {\n",
       "        vertical-align: top;\n",
       "    }\n",
       "\n",
       "    .dataframe thead th {\n",
       "        text-align: right;\n",
       "    }\n",
       "</style>\n",
       "<table border=\"1\" class=\"dataframe\">\n",
       "  <thead>\n",
       "    <tr style=\"text-align: right;\">\n",
       "      <th></th>\n",
       "      <th>count</th>\n",
       "      <th>mean</th>\n",
       "      <th>std</th>\n",
       "      <th>min</th>\n",
       "      <th>25%</th>\n",
       "      <th>50%</th>\n",
       "      <th>75%</th>\n",
       "      <th>max</th>\n",
       "    </tr>\n",
       "  </thead>\n",
       "  <tbody>\n",
       "    <tr>\n",
       "      <th>raptor_box_offense</th>\n",
       "      <td>865.0</td>\n",
       "      <td>-1.190280</td>\n",
       "      <td>5.029161</td>\n",
       "      <td>-46.708724</td>\n",
       "      <td>-2.690118</td>\n",
       "      <td>-0.878361</td>\n",
       "      <td>1.052860</td>\n",
       "      <td>25.867967</td>\n",
       "    </tr>\n",
       "    <tr>\n",
       "      <th>raptor_box_defense</th>\n",
       "      <td>865.0</td>\n",
       "      <td>-0.452295</td>\n",
       "      <td>5.073575</td>\n",
       "      <td>-25.382776</td>\n",
       "      <td>-2.244035</td>\n",
       "      <td>-0.334633</td>\n",
       "      <td>1.589149</td>\n",
       "      <td>66.957703</td>\n",
       "    </tr>\n",
       "    <tr>\n",
       "      <th>raptor_box_total</th>\n",
       "      <td>865.0</td>\n",
       "      <td>-1.642575</td>\n",
       "      <td>7.526838</td>\n",
       "      <td>-62.219863</td>\n",
       "      <td>-4.002939</td>\n",
       "      <td>-0.802503</td>\n",
       "      <td>1.754482</td>\n",
       "      <td>67.932330</td>\n",
       "    </tr>\n",
       "    <tr>\n",
       "      <th>raptor_onoff_offense</th>\n",
       "      <td>865.0</td>\n",
       "      <td>-2.544279</td>\n",
       "      <td>8.402711</td>\n",
       "      <td>-69.051553</td>\n",
       "      <td>-5.120859</td>\n",
       "      <td>-1.362247</td>\n",
       "      <td>1.629285</td>\n",
       "      <td>28.120957</td>\n",
       "    </tr>\n",
       "    <tr>\n",
       "      <th>raptor_onoff_defense</th>\n",
       "      <td>865.0</td>\n",
       "      <td>1.036961</td>\n",
       "      <td>8.677396</td>\n",
       "      <td>-52.889719</td>\n",
       "      <td>-2.148888</td>\n",
       "      <td>0.351031</td>\n",
       "      <td>3.185249</td>\n",
       "      <td>65.729833</td>\n",
       "    </tr>\n",
       "    <tr>\n",
       "      <th>raptor_onoff_total</th>\n",
       "      <td>865.0</td>\n",
       "      <td>-1.507318</td>\n",
       "      <td>10.583814</td>\n",
       "      <td>-88.047853</td>\n",
       "      <td>-5.202733</td>\n",
       "      <td>-0.874476</td>\n",
       "      <td>2.719564</td>\n",
       "      <td>55.960874</td>\n",
       "    </tr>\n",
       "    <tr>\n",
       "      <th>raptor_offense</th>\n",
       "      <td>865.0</td>\n",
       "      <td>-1.553084</td>\n",
       "      <td>5.329365</td>\n",
       "      <td>-43.366145</td>\n",
       "      <td>-3.123756</td>\n",
       "      <td>-0.982071</td>\n",
       "      <td>0.925080</td>\n",
       "      <td>22.564146</td>\n",
       "    </tr>\n",
       "    <tr>\n",
       "      <th>raptor_defense</th>\n",
       "      <td>865.0</td>\n",
       "      <td>-0.165898</td>\n",
       "      <td>5.397463</td>\n",
       "      <td>-30.938383</td>\n",
       "      <td>-2.091871</td>\n",
       "      <td>-0.131748</td>\n",
       "      <td>1.899592</td>\n",
       "      <td>71.024801</td>\n",
       "    </tr>\n",
       "    <tr>\n",
       "      <th>raptor_total</th>\n",
       "      <td>865.0</td>\n",
       "      <td>-1.718982</td>\n",
       "      <td>7.758748</td>\n",
       "      <td>-63.749646</td>\n",
       "      <td>-4.267638</td>\n",
       "      <td>-0.947591</td>\n",
       "      <td>1.790902</td>\n",
       "      <td>68.268286</td>\n",
       "    </tr>\n",
       "    <tr>\n",
       "      <th>war_total</th>\n",
       "      <td>865.0</td>\n",
       "      <td>0.963499</td>\n",
       "      <td>1.963746</td>\n",
       "      <td>-4.747338</td>\n",
       "      <td>-0.085045</td>\n",
       "      <td>0.219487</td>\n",
       "      <td>1.480337</td>\n",
       "      <td>15.756031</td>\n",
       "    </tr>\n",
       "    <tr>\n",
       "      <th>war_reg_season</th>\n",
       "      <td>865.0</td>\n",
       "      <td>0.850413</td>\n",
       "      <td>1.954279</td>\n",
       "      <td>-4.747338</td>\n",
       "      <td>0.000000</td>\n",
       "      <td>0.000000</td>\n",
       "      <td>1.065522</td>\n",
       "      <td>15.756031</td>\n",
       "    </tr>\n",
       "    <tr>\n",
       "      <th>war_playoffs</th>\n",
       "      <td>865.0</td>\n",
       "      <td>0.113085</td>\n",
       "      <td>0.479219</td>\n",
       "      <td>-1.038000</td>\n",
       "      <td>0.000000</td>\n",
       "      <td>0.000000</td>\n",
       "      <td>0.000000</td>\n",
       "      <td>3.948107</td>\n",
       "    </tr>\n",
       "    <tr>\n",
       "      <th>predator_offense</th>\n",
       "      <td>865.0</td>\n",
       "      <td>-1.314022</td>\n",
       "      <td>4.489850</td>\n",
       "      <td>-36.433265</td>\n",
       "      <td>-3.129131</td>\n",
       "      <td>-1.091905</td>\n",
       "      <td>0.919669</td>\n",
       "      <td>18.988536</td>\n",
       "    </tr>\n",
       "    <tr>\n",
       "      <th>predator_defense</th>\n",
       "      <td>865.0</td>\n",
       "      <td>-0.792735</td>\n",
       "      <td>4.944808</td>\n",
       "      <td>-33.320652</td>\n",
       "      <td>-2.582376</td>\n",
       "      <td>-0.540969</td>\n",
       "      <td>1.431336</td>\n",
       "      <td>59.012224</td>\n",
       "    </tr>\n",
       "    <tr>\n",
       "      <th>predator_total</th>\n",
       "      <td>865.0</td>\n",
       "      <td>-2.106757</td>\n",
       "      <td>7.208814</td>\n",
       "      <td>-58.261540</td>\n",
       "      <td>-4.805238</td>\n",
       "      <td>-1.296226</td>\n",
       "      <td>1.630016</td>\n",
       "      <td>59.197734</td>\n",
       "    </tr>\n",
       "    <tr>\n",
       "      <th>pace_impact</th>\n",
       "      <td>865.0</td>\n",
       "      <td>0.098131</td>\n",
       "      <td>1.211836</td>\n",
       "      <td>-5.050470</td>\n",
       "      <td>-0.492367</td>\n",
       "      <td>-0.003107</td>\n",
       "      <td>0.537056</td>\n",
       "      <td>10.484244</td>\n",
       "    </tr>\n",
       "  </tbody>\n",
       "</table>\n",
       "</div>"
      ],
      "text/plain": [
       "                      count      mean        std        min       25%  \\\n",
       "raptor_box_offense    865.0 -1.190280   5.029161 -46.708724 -2.690118   \n",
       "raptor_box_defense    865.0 -0.452295   5.073575 -25.382776 -2.244035   \n",
       "raptor_box_total      865.0 -1.642575   7.526838 -62.219863 -4.002939   \n",
       "raptor_onoff_offense  865.0 -2.544279   8.402711 -69.051553 -5.120859   \n",
       "raptor_onoff_defense  865.0  1.036961   8.677396 -52.889719 -2.148888   \n",
       "raptor_onoff_total    865.0 -1.507318  10.583814 -88.047853 -5.202733   \n",
       "raptor_offense        865.0 -1.553084   5.329365 -43.366145 -3.123756   \n",
       "raptor_defense        865.0 -0.165898   5.397463 -30.938383 -2.091871   \n",
       "raptor_total          865.0 -1.718982   7.758748 -63.749646 -4.267638   \n",
       "war_total             865.0  0.963499   1.963746  -4.747338 -0.085045   \n",
       "war_reg_season        865.0  0.850413   1.954279  -4.747338  0.000000   \n",
       "war_playoffs          865.0  0.113085   0.479219  -1.038000  0.000000   \n",
       "predator_offense      865.0 -1.314022   4.489850 -36.433265 -3.129131   \n",
       "predator_defense      865.0 -0.792735   4.944808 -33.320652 -2.582376   \n",
       "predator_total        865.0 -2.106757   7.208814 -58.261540 -4.805238   \n",
       "pace_impact           865.0  0.098131   1.211836  -5.050470 -0.492367   \n",
       "\n",
       "                           50%       75%        max  \n",
       "raptor_box_offense   -0.878361  1.052860  25.867967  \n",
       "raptor_box_defense   -0.334633  1.589149  66.957703  \n",
       "raptor_box_total     -0.802503  1.754482  67.932330  \n",
       "raptor_onoff_offense -1.362247  1.629285  28.120957  \n",
       "raptor_onoff_defense  0.351031  3.185249  65.729833  \n",
       "raptor_onoff_total   -0.874476  2.719564  55.960874  \n",
       "raptor_offense       -0.982071  0.925080  22.564146  \n",
       "raptor_defense       -0.131748  1.899592  71.024801  \n",
       "raptor_total         -0.947591  1.790902  68.268286  \n",
       "war_total             0.219487  1.480337  15.756031  \n",
       "war_reg_season        0.000000  1.065522  15.756031  \n",
       "war_playoffs          0.000000  0.000000   3.948107  \n",
       "predator_offense     -1.091905  0.919669  18.988536  \n",
       "predator_defense     -0.540969  1.431336  59.012224  \n",
       "predator_total       -1.296226  1.630016  59.197734  \n",
       "pace_impact          -0.003107  0.537056  10.484244  "
      ]
     },
     "execution_count": 11,
     "metadata": {},
     "output_type": "execute_result"
    }
   ],
   "source": [
    "df.describe(include='float64').T"
   ]
  },
  {
   "cell_type": "code",
   "execution_count": 7,
   "metadata": {},
   "outputs": [
    {
     "data": {
      "text/plain": [
       "array(['MIA', 'MIL', 'NOP', 'SAS', 'BRK', 'PHO', 'MEM', 'CLE', 'CHI',\n",
       "       'ORL', 'LAL', 'POR', 'TOR', 'HOU', 'WAS', 'UTA', 'SAC', 'CHA',\n",
       "       'NYK', 'DEN', 'LAC', 'GSW', 'OKC', 'MIN', 'DET', 'DAL', 'IND',\n",
       "       'ATL', 'PHI', 'BOS'], dtype=object)"
      ]
     },
     "execution_count": 7,
     "metadata": {},
     "output_type": "execute_result"
    }
   ],
   "source": [
    "df.team.unique()"
   ]
  },
  {
   "cell_type": "markdown",
   "metadata": {},
   "source": [
    "## Task 2-3"
   ]
  },
  {
   "cell_type": "code",
   "execution_count": 9,
   "metadata": {},
   "outputs": [],
   "source": [
    "import project_functions3 as fun"
   ]
  },
  {
   "cell_type": "code",
   "execution_count": 10,
   "metadata": {},
   "outputs": [
    {
     "data": {
      "text/plain": [
       "(         player_name  player_id  season season_type team  poss    mp  \\\n",
       " 0       Aaron Gordon  gordoaa01    2021          RS  ORL  1528   736   \n",
       " 1       Aaron Gordon  gordoaa01    2021          PO  DEN   620   299   \n",
       " 2       Aaron Gordon  gordoaa01    2021          RS  DEN  1341   648   \n",
       " 3      Aaron Holiday  holidaa01    2021          RS  IND  2556  1176   \n",
       " 4      Aaron Nesmith  nesmiaa01    2021          PO  BOS   152    75   \n",
       " ..               ...        ...     ...         ...  ...   ...   ...   \n",
       " 860    Yuta Watanabe  watanyu01    2021          RS  TOR  1533   723   \n",
       " 861      Zach LaVine  lavinza01    2021          RS  CHI  4294  2034   \n",
       " 862       Zeke Nnaji  nnajize01    2021          RS  DEN   848   397   \n",
       " 863       Zeke Nnaji  nnajize01    2021          PO  DEN    39    18   \n",
       " 864  Zion Williamson  willizi01    2021          RS  NOP  4360  2026   \n",
       " \n",
       "      raptor_box_offense  raptor_box_defense  raptor_box_total  ...  \\\n",
       " 0             -0.932025            1.821116          0.889091  ...   \n",
       " 1             -2.258470            0.326547         -1.931923  ...   \n",
       " 2             -0.823652            0.246942         -0.576710  ...   \n",
       " 3             -1.560030           -0.663993         -2.224023  ...   \n",
       " 4             -5.315048            2.808603         -2.506446  ...   \n",
       " ..                  ...                 ...               ...  ...   \n",
       " 860           -0.902317            0.174625         -0.727692  ...   \n",
       " 861            3.816001           -1.371998          2.444002  ...   \n",
       " 862           -1.475450           -3.091979         -4.567428  ...   \n",
       " 863           10.431325           -7.287116          3.144209  ...   \n",
       " 864            3.657254           -0.804485          2.852769  ...   \n",
       " \n",
       "      raptor_offense  raptor_defense  raptor_total  war_total  war_reg_season  \\\n",
       " 0         -0.463134        2.022046      1.558912   1.619684        1.619684   \n",
       " 1         -1.681302        0.391789     -1.289513   0.231974        0.000000   \n",
       " 2         -0.408308        0.140385     -0.267922   0.821301        0.821301   \n",
       " 3         -1.387776       -0.852356     -2.240132   0.308333        0.308333   \n",
       " 4         -5.209148        5.340436      0.131289   0.112559        0.000000   \n",
       " ..              ...             ...           ...        ...             ...   \n",
       " 860       -1.341235        0.157521     -1.183714   0.576515        0.576515   \n",
       " 861        3.929600       -1.613702      2.315898   5.321058        5.321058   \n",
       " 862       -2.735651       -2.841045     -5.576696  -0.570573       -0.570573   \n",
       " 863        7.616831       -2.340404      5.276427   0.076935        0.000000   \n",
       " 864        3.617544       -0.652527      2.965017   5.983387        5.983387   \n",
       " \n",
       "      war_playoffs  predator_offense  predator_defense  predator_total  \\\n",
       " 0        0.000000         -0.926717          0.521009       -0.405708   \n",
       " 1        0.231974         -3.714343          0.583292       -3.131051   \n",
       " 2        0.000000          0.162278         -0.118989        0.043289   \n",
       " 3        0.000000         -1.610154         -1.081808       -2.691962   \n",
       " 4        0.112559         -4.918039          4.454293       -0.463746   \n",
       " ..            ...               ...               ...             ...   \n",
       " 860      0.000000         -1.820152         -0.015584       -1.835736   \n",
       " 861      0.000000          4.312378         -1.690984        2.621393   \n",
       " 862      0.000000         -2.412525         -3.439129       -5.851654   \n",
       " 863      0.076935          3.733035         -2.386622        1.346412   \n",
       " 864      0.000000          2.850016         -0.829927        2.020089   \n",
       " \n",
       "      pace_impact  \n",
       " 0       0.103369  \n",
       " 1       0.934664  \n",
       " 2       0.086371  \n",
       " 3       0.797174  \n",
       " 4      -0.992661  \n",
       " ..           ...  \n",
       " 860    -0.218032  \n",
       " 861     1.228100  \n",
       " 862    -0.347973  \n",
       " 863     1.177056  \n",
       " 864     1.298619  \n",
       " \n",
       " [865 rows x 23 columns],\n",
       " (865, 23))"
      ]
     },
     "execution_count": 10,
     "metadata": {},
     "output_type": "execute_result"
    }
   ],
   "source": [
    "df_cleaned=fun.load_and_process(\"../data/raw/latest_RAPTOR_by_team.csv\")\n",
    "df_cleaned"
   ]
  },
  {
   "cell_type": "markdown",
   "metadata": {},
   "source": [
    "df_cleaned.shape has the same result as df.shape. No rows and columns are dropped."
   ]
  },
  {
   "cell_type": "markdown",
   "metadata": {},
   "source": [
    "## Task 4"
   ]
  },
  {
   "cell_type": "markdown",
   "metadata": {},
   "source": [
    "#### Graph Analysis 1"
   ]
  },
  {
   "cell_type": "markdown",
   "metadata": {},
   "source": [
    "The following graph shows the generally negative correlation between the individual player's offense and defense, in both onoff and box.\n",
    "It also shows that the player's box offense and defense capability has a large correlation with their total rating on offense and defense."
   ]
  },
  {
   "cell_type": "code",
   "execution_count": 12,
   "metadata": {},
   "outputs": [
    {
     "data": {
      "text/plain": [
       "<AxesSubplot:>"
      ]
     },
     "execution_count": 12,
     "metadata": {},
     "output_type": "execute_result"
    },
    {
     "data": {
      "image/png": "[encoded data removed]",
      "text/plain": [
       "<Figure size 432x288 with 2 Axes>"
      ]
     },
     "metadata": {
      "needs_background": "light"
     },
     "output_type": "display_data"
    }
   ],
   "source": [
    "df1= df.loc[0:,['raptor_box_offense', 'raptor_box_defense', 'raptor_onoff_offense', 'raptor_onoff_defense', 'raptor_offense', 'raptor_defense']]\n",
    "corr = df1.corr()\n",
    "sns.heatmap(corr, xticklabels=corr.columns, yticklabels=corr.columns, annot=True, cmap=sns.diverging_palette(220, 20, as_cmap=True))"
   ]
  },
  {
   "cell_type": "markdown",
   "metadata": {},
   "source": [
    "#### Graph Analysis 2"
   ]
  },
  {
   "cell_type": "markdown",
   "metadata": {},
   "source": [
    "The following graph shows that most teams have negative predictive points in total. But teams MEM and CHI are given high expectation."
   ]
  },
  {
   "cell_type": "code",
   "execution_count": 13,
   "metadata": {},
   "outputs": [
    {
     "data": {
      "text/plain": [
       "<seaborn.axisgrid.FacetGrid at 0x7f8f913a4a90>"
      ]
     },
     "execution_count": 13,
     "metadata": {},
     "output_type": "execute_result"
    },
    {
     "data": {
      "image/png": "[encoded data removed]",
      "text/plain": [
       "<Figure size 720x720 with 1 Axes>"
      ]
     },
     "metadata": {
      "needs_background": "light"
     },
     "output_type": "display_data"
    }
   ],
   "source": [
    "#df.plot(kind=\"scatter\", x=\"team\", y=\"predator_total\")\n",
    "sns.catplot(x=\"team\",y=\"predator_total\",data = df,kind =\"bar\",height=10)"
   ]
  },
  {
   "cell_type": "markdown",
   "metadata": {},
   "source": [
    "#### Graph Analysis 3"
   ]
  },
  {
   "cell_type": "markdown",
   "metadata": {},
   "source": [
    "The following graph shows that the team PHO has the highest \"Win Above Replacement\" points, which indicates that PHO's competitiveness. However, the team GSW has the largest range of \"Win Above Replacement\" points, which indicates large within-team gap in capabilities of players."
   ]
  },
  {
   "cell_type": "code",
   "execution_count": 14,
   "metadata": {},
   "outputs": [
    {
     "data": {
      "text/plain": [
       "<seaborn.axisgrid.FacetGrid at 0x7f8f8d958af0>"
      ]
     },
     "execution_count": 14,
     "metadata": {},
     "output_type": "execute_result"
    },
    {
     "data": {
      "image/png": "[encoded data removed]",
      "text/plain": [
       "<Figure size 720x720 with 1 Axes>"
      ]
     },
     "metadata": {
      "needs_background": "light"
     },
     "output_type": "display_data"
    }
   ],
   "source": [
    "sns.catplot(x=\"team\",y=\"war_total\",data = df,kind =\"bar\",height=10)"
   ]
  },
  {
   "cell_type": "markdown",
   "metadata": {},
   "source": [
    "### Conclusions on Graph Analysis"
   ]
  },
  {
   "cell_type": "markdown",
   "metadata": {},
   "source": [
    "By comparing graph 2 and graph 3, we find that teams that receive highest expectation are not the same as teams with highest total Win Above Replacement scores (in other words, most competitive teams). Taking Graph 1 into consideration, the reasons behind this could be team cooperation and drawbacks on either offense or defense, which would be further analyzed."
   ]
  },
  {
   "cell_type": "code",
   "execution_count": null,
   "metadata": {},
   "outputs": [],
   "source": []
  }
 ],
 "metadata": {
  "kernelspec": {
   "display_name": "Python 3",
   "language": "python",
   "name": "python3"
  },
  "language_info": {
   "codemirror_mode": {
    "name": "ipython",
    "version": 3
   },
   "file_extension": ".py",
   "mimetype": "text/x-python",
   "name": "python",
   "nbconvert_exporter": "python",
   "pygments_lexer": "ipython3",
   "version": "3.9.5"
  }
 },
 "nbformat": 4,
 "nbformat_minor": 4
}
